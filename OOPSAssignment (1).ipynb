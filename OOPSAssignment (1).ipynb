{
  "nbformat": 4,
  "nbformat_minor": 0,
  "metadata": {
    "colab": {
      "provenance": []
    },
    "kernelspec": {
      "name": "python3",
      "display_name": "Python 3"
    },
    "language_info": {
      "name": "python"
    }
  },
  "cells": [
    {
      "cell_type": "markdown",
      "source": [
        "#THEORY QUESTIONS\n",
        "\n",
        "Q1.What is Object-Oriented Programming (OOP)?                                   \n",
        "Answer: Object-Oriented Programming (OOP) is a way of organizing code using objects, which are like real-world things. These objects have data  and methods.                                                                        \n",
        "Q2.What is a class in oop?\n",
        "\n",
        "Answer: A class is a blueprint for creating objects. It is a user-defined data type, which holds its own data members and member functions.\n",
        "\n",
        "Q3. What is an object in OOP?\n",
        "\n",
        "Answer: An Object is an instance of a class.It is an identifiable entity with some characteristics and behavior.\n",
        "\n",
        "Q4.What is the difference between abstraction and encapsulation?\n",
        "\n",
        "Answer: Abstraction is about showing only the important details and hiding the unnecessary parts.Eg: Using a remote control for a TV .\n",
        "Encapsulation is keeping an object’s data and the actions it can perform  together in one place, while controlling who can see or change the data. Eg: microwave oven.\n",
        "\n",
        "Q5.What are dunder methods in Python?\n",
        "\n",
        "Answer: Dunder methods in Python are special functions  with double underscores, like  __str__ and so on. These allow us to perform operations like adding two objects.\n",
        "\n",
        "Q6.Explain the concept of inheritance in OOP?\n",
        "\n",
        "Answer: Inheritance in Python means that one class  can inherit data and methods from another class.This allows the child class to reuse the code of the parent class.\n",
        "\n",
        "Q7. What is polymorphism in OOP?\n",
        "\n",
        "Answer:Polymorphism means that different classes can have methods with the same name but perform different things.\n",
        "\n",
        "Q8. How is encapsulation achieved in Python?\n",
        "\n",
        "Answer: Encapsulation in Python is achieved by hiding data inside the class using private or protected variables and controlling access through specific methods.\n",
        "\n",
        "Q9.What is a constructor in Python?\n",
        "\n",
        "Answer: A constructor is a special function that runs automatically when you create a new object, setting up its initial details.\n",
        "\n",
        "Q10.What are class and static methods in Python?\n",
        "\n",
        "Answer: Class methods are defined using the \"@classmethod\" decorator. They take the class itself as the first argument and can modify class-level attributes.\n",
        "Static methods are defined using the \"@staticmethod\" decorator. They don’t take self or class as arguments and don’t access instance or class data.\n",
        "\n",
        "Q11. What is method overloading in Python?\n",
        "\n",
        "Answer: Method overloading means having two or more methods have the same name but different numbers of parameters or different types of parameters, or both.\n",
        "\n",
        "Q12.What is method overriding in OOP?\n",
        "\n",
        "Answer: Method overriding happens when a subclass gives its own version of a method that was already defined in the parent class.\n",
        "\n",
        "Q13.What is a property decorator in Python?\n",
        "\n",
        "Answer: The property decorator allows to define a method that behaves like an attribute. It helps us to get the value of an object.\n",
        "\n",
        "Q14. Why is polymorphism important in OOP?\n",
        "\n",
        "Answer: Polymorphism allows us to have different types of objects use the same method but perform different things. This makes the code more flexible and reusable.\n",
        "\n",
        "Q15.What is an abstract class in Python?\n",
        "\n",
        "Answer: An abstract class in python is a class from which we can’t create objects . It  has abstract methods that must be implemented by subclasses.\n",
        "\n",
        "Q16.  What are the advantages of OOP?\n",
        "\n",
        "Answer: OOP makes code easier to manage, reuse, and maintain. It also helps protect data by controlling access to it.\n",
        "\n",
        "Q17. What is the difference between a class variable and an instance variable?\n",
        "\n",
        "Answer: Class variable is shared by all objects of a class whereas instance variable is unique to each object created from the class.\n",
        "\n",
        "Q18. What is multiple inheritance in Python?\n",
        "\n",
        "Answer: Multiple inheritance allows a class to inherit data and functions from more than one parent class.\n",
        "\n",
        "Q19.Explain the purpose of ‘’__str__’ and ‘__repr__’  methods in Python.\n",
        "\n",
        "Answer: \"__str__\" makes the object look nice and easy to understand when you print it.\"__repr__\" shows a detailed, technical description of the object, useful for debugging.\n",
        "\n",
        "Q20.What is the significance of the ‘super()’ function in Python?\n",
        "\n",
        "Answer: The super() function helps us to  call methods from the parent class, which is useful when doing method overriding.\n",
        "\n",
        "Q21. What is the significance of the __del__ method in Python?\n",
        "\n",
        "Answer: The __del__ method runs when an object is about to be deleted and is useful for cleanup tasks.\n",
        "\n",
        "Q22. What is the difference between @staticmethod and @classmethod in Python?\n",
        "\n",
        "Answer: Class methods are defined using the \"@classmethod\" decorator. They take the class itself as the first argument and can modify class-level attributes.\n",
        "Static methods are defined using the \"@staticmethod\" decorator. They don’t take self or class as arguments and don’t access instance or class data.\n",
        "\n",
        "Q23. How does polymorphism work in Python with inheritance?\n",
        "\n",
        "Answer: Inheritance  means that one class  can inherit data and methods from another class.This allows the child class to reuse the code of the parent class.Polymorphism allows a child class to  have a method with the same name as the parent class, but the child can make the method perform different things.\n",
        "\n",
        "Q24.What is method chaining in Python OOP?\n",
        "\n",
        "Answer: Method chaining in Python allows to call multiple methods on the same object in one line. Each method returns the object.\n",
        "\n",
        "Q25.What is the purpose of the __call__ method in Python?\n",
        "\n",
        "Answer:The __call__ method in Python allows an instance of a class to be called as if it were a regular function. It uses paranthesis\"()\"."
      ],
      "metadata": {
        "id": "HZFa57oo4rYm"
      }
    },
    {
      "cell_type": "markdown",
      "source": [
        "#PRACTICAL  QUESTIONS"
      ],
      "metadata": {
        "id": "ZyPwL3MvUDxI"
      }
    },
    {
      "cell_type": "markdown",
      "source": [
        "Q1. Create a parent class Animal with a method speak() that prints a generic message. Create a child class Dog that overrides the speak() method to print \"Bark!\"."
      ],
      "metadata": {
        "id": "SgzJA8w8ULnI"
      }
    },
    {
      "cell_type": "code",
      "source": [
        "class Animal:\n",
        "    def speak(s):\n",
        "        print(\"The animal makes a sound\")\n",
        "\n",
        "class Dog(Animal):\n",
        "    def speak(s):\n",
        "        print(\"Bark!\")\n",
        "a= Animal()\n",
        "a.speak()\n",
        "d = Dog()\n",
        "d.speak()\n"
      ],
      "metadata": {
        "colab": {
          "base_uri": "https://localhost:8080/"
        },
        "id": "K96i2rFfXmUz",
        "outputId": "0b257ced-b51e-4516-95d7-2e32fbed33bf"
      },
      "execution_count": 2,
      "outputs": [
        {
          "output_type": "stream",
          "name": "stdout",
          "text": [
            "The animal makes a sound\n",
            "Bark!\n"
          ]
        }
      ]
    },
    {
      "cell_type": "markdown",
      "source": [
        "Q2.Write a program to create an abstract class Shape with a method area(). Derive classes Circle and Rectangle from it and implement the area() method in both"
      ],
      "metadata": {
        "id": "D4to9srZYE_6"
      }
    },
    {
      "cell_type": "code",
      "source": [
        "import abc\n",
        "import math\n",
        "class Shape():\n",
        "    @abc.abstractmethod\n",
        "    def area(self):\n",
        "        pass\n",
        "\n",
        "class Circle(Shape):\n",
        "    def __init__(self, radius):\n",
        "        self.radius = radius\n",
        "\n",
        "    def area(self):\n",
        "        return math.pi * self.radius ** 2\n",
        "\n",
        "class Rectangle(Shape):\n",
        "    def __init__(self, width, height):\n",
        "        self.width = width\n",
        "        self.height = height\n",
        "\n",
        "    def area(self):\n",
        "        return self.width * self.height\n",
        "\n",
        "circle = Circle(5)\n",
        "print(\"Area of Circle: \" + str(circle.area()))\n",
        "\n",
        "rectangle = Rectangle(4, 6)\n",
        "print(\"Area of Rectangle: \" + str(rectangle.area()))\n"
      ],
      "metadata": {
        "colab": {
          "base_uri": "https://localhost:8080/"
        },
        "id": "s8VKqZxMYObA",
        "outputId": "7be5f89d-d823-4a63-b433-5791afae3f86"
      },
      "execution_count": 8,
      "outputs": [
        {
          "output_type": "stream",
          "name": "stdout",
          "text": [
            "Area of Circle: 78.53981633974483\n",
            "Area of Rectangle: 24\n"
          ]
        }
      ]
    },
    {
      "cell_type": "markdown",
      "source": [
        "Q3.Implement a multi-level inheritance scenario where a class Vehicle has an attribute type. Derive a class Car and further derive a class ElectricCar that adds a battery attribute."
      ],
      "metadata": {
        "id": "YpSLge5_ht2a"
      }
    },
    {
      "cell_type": "code",
      "source": [
        "class Vehicle:\n",
        "    def __init__(self, vtype):\n",
        "        self.vtype = vtype\n",
        "\n",
        "    def display(self):\n",
        "        print(\"Vehicle type: \" + self.vtype)\n",
        "class Car(Vehicle):\n",
        "    def __init__(self, vtype, brand):\n",
        "        super().__init__(vtype)\n",
        "        self.brand = brand\n",
        "    def display(self):\n",
        "        print(\"Car brand: \" + self.brand)\n",
        "class ElectricCar(Car):\n",
        "    def __init__(self, vtype, brand, capacity):\n",
        "        super().__init__(vtype, brand)\n",
        "        self.capacity = capacity\n",
        "    def display(self):\n",
        "        print(\"Electric Car battery capacity: \" + str(self.capacity) )\n",
        "vehicle = Vehicle(\" Vehicle\")\n",
        "vehicle.display()\n",
        "car = Car(\"Car\", \"ABC\")\n",
        "car.display()\n",
        "ecar = ElectricCar(\"Electric Car\", \"XYZ\", 95)\n",
        "ecar.display()\n"
      ],
      "metadata": {
        "colab": {
          "base_uri": "https://localhost:8080/"
        },
        "id": "yCdAlRW3h5NH",
        "outputId": "fe149fcc-7cbc-42ab-ca30-4c88ac84af82"
      },
      "execution_count": 11,
      "outputs": [
        {
          "output_type": "stream",
          "name": "stdout",
          "text": [
            "Vehicle type:  Vehicle\n",
            "Car brand: ABC\n",
            "Electric Car battery capacity: 95\n"
          ]
        }
      ]
    },
    {
      "cell_type": "markdown",
      "source": [
        "Q4. Implement a multi-level inheritance scenario where a class Vehicle has an attribute type. Derive a class Car\n",
        "and further derive a class ElectricCar that adds a battery attribute."
      ],
      "metadata": {
        "id": "yj-L0jjZjUjc"
      }
    },
    {
      "cell_type": "code",
      "source": [
        "class Vehicle:\n",
        "    def __init__(self, vtype):\n",
        "        self.vtype = vtype\n",
        "\n",
        "    def display(self):\n",
        "        print(\"Vehicle type: \" + self.vtype)\n",
        "class Car(Vehicle):\n",
        "    def __init__(self, vtype, brand):\n",
        "        super().__init__(vtype)\n",
        "        self.brand = brand\n",
        "    def display(self):\n",
        "        print(\"Car brand: \" + self.brand)\n",
        "class ElectricCar(Car):\n",
        "    def __init__(self, vtype, brand, capacity):\n",
        "        super().__init__(vtype, brand)\n",
        "        self.capacity = capacity\n",
        "    def display(self):\n",
        "        print(\"Electric Car battery capacity: \" + str(self.capacity) )\n",
        "vehicle = Vehicle(\" Vehicle\")\n",
        "vehicle.display()\n",
        "car = Car(\"Car\", \"ABC\")\n",
        "car.display()\n",
        "ecar = ElectricCar(\"Electric Car\", \"XYZ\", 95)\n",
        "ecar.display()\n"
      ],
      "metadata": {
        "colab": {
          "base_uri": "https://localhost:8080/"
        },
        "id": "hKFk_vxJjZ8m",
        "outputId": "9d2c600d-2ac9-46d1-a2f8-1b8e7d498127"
      },
      "execution_count": 12,
      "outputs": [
        {
          "output_type": "stream",
          "name": "stdout",
          "text": [
            "Vehicle type:  Vehicle\n",
            "Car brand: ABC\n",
            "Electric Car battery capacity: 95\n"
          ]
        }
      ]
    },
    {
      "cell_type": "markdown",
      "source": [
        "Q5. Write a program to demonstrate encapsulation by creating a class BankAccount with private attributes\n",
        "balance and methods to deposit, withdraw, and check balance"
      ],
      "metadata": {
        "id": "ebwzH_92jeUq"
      }
    },
    {
      "cell_type": "code",
      "source": [
        "class BankAccount:\n",
        "    def __init__(self, balance):\n",
        "        self.balance = balance\n",
        "    def deposit(self, amount):\n",
        "        if amount > 0:\n",
        "            self.balance += amount\n",
        "            print(\"Deposited: \" + str(amount))\n",
        "        else:\n",
        "            print(\"Invalid.\")\n",
        "    def withdraw(self, amount):\n",
        "        if amount > 0 and amount <= self.balance:\n",
        "            self.balance -= amount\n",
        "            print(\"Withdrawn: \" + str(amount))\n",
        "        elif amount > self.balance:\n",
        "            print(\"Insufficient balance.\")\n",
        "        else:\n",
        "            print(\"Invalid.\")\n",
        "    def check(self):\n",
        "        print(\"Current balance: \" + str(self.balance))\n",
        "account = BankAccount(123456789)\n",
        "account.deposit(123456)\n",
        "account.withdraw(12345)\n",
        "account.check()\n"
      ],
      "metadata": {
        "colab": {
          "base_uri": "https://localhost:8080/"
        },
        "id": "U5c2JUxMjiix",
        "outputId": "f6e7b713-439e-4f1a-d23b-cb03f3c5d3d5"
      },
      "execution_count": 14,
      "outputs": [
        {
          "output_type": "stream",
          "name": "stdout",
          "text": [
            "Deposited: 123456\n",
            "Withdrawn: 12345\n",
            "Current balance: 123567900\n"
          ]
        }
      ]
    },
    {
      "cell_type": "markdown",
      "source": [
        "Q6. Demonstrate runtime polymorphism using a method play() in a base class Instrument. Derive classes Guitar\n",
        "and Piano that implement their own version of play()."
      ],
      "metadata": {
        "id": "2QcT-qReqJ9c"
      }
    },
    {
      "cell_type": "code",
      "source": [
        "class Instrument:\n",
        "  def play(self):\n",
        "    pass\n",
        "class Guitar(Instrument):\n",
        "  def play(self):\n",
        "    print(\"Guitar is playing \")\n",
        "class Piano(Instrument):\n",
        "  def play(self):\n",
        "    print(\"Piano is playing.\")\n",
        "guitar=Guitar()\n",
        "piano=Piano()\n",
        "guitar.play()\n",
        "piano.play()"
      ],
      "metadata": {
        "colab": {
          "base_uri": "https://localhost:8080/"
        },
        "id": "0JWeaPgDqNjF",
        "outputId": "99a44782-1228-4a58-a0a0-4e89837c90ed"
      },
      "execution_count": 16,
      "outputs": [
        {
          "output_type": "stream",
          "name": "stdout",
          "text": [
            "Guitar is playing \n",
            "Piano is playing.\n"
          ]
        }
      ]
    },
    {
      "cell_type": "markdown",
      "source": [
        "Q7. Create a class MathOperations with a class method add_numbers() to add two numbers and a static method subtract_numbers() to subtract two numbers."
      ],
      "metadata": {
        "id": "HbEiLEQVrF98"
      }
    },
    {
      "cell_type": "code",
      "source": [
        "class MathOperations:\n",
        "  @classmethod\n",
        "  def add_numbers(cls,a,b):\n",
        "    return a+b\n",
        "  @staticmethod\n",
        "  def subtract_numbers(a,b):\n",
        "    return a-b\n",
        "sum= MathOperations.add_numbers(20,7)\n",
        "print(\"Sum is \"+ str(sum))\n",
        "diff= MathOperations.subtract_numbers(20,7)\n",
        "print(\"Difference is \"+ str(diff))"
      ],
      "metadata": {
        "colab": {
          "base_uri": "https://localhost:8080/"
        },
        "id": "Xk4Jcdxfriye",
        "outputId": "b7bd9117-3c88-464a-c77b-9e19ca714db2"
      },
      "execution_count": 20,
      "outputs": [
        {
          "output_type": "stream",
          "name": "stdout",
          "text": [
            "Sum is 27\n",
            "Difference is 13\n"
          ]
        }
      ]
    },
    {
      "cell_type": "markdown",
      "source": [
        "Q8. Implement a class Person with a class method to count the total number of persons created.\n"
      ],
      "metadata": {
        "id": "iaV5o-UzsrMd"
      }
    },
    {
      "cell_type": "code",
      "source": [
        "class Person:\n",
        "    total = 0\n",
        "    def __init__(self, name, age):\n",
        "        self.name = name\n",
        "        self.age = age\n",
        "        Person.total += 1\n",
        "    @classmethod\n",
        "    def count(cls):\n",
        "        return cls.total\n",
        "p1 = Person(\"Khushi\", 19)\n",
        "p2 = Person(\"Yash\", 10)\n",
        "p3 = Person(\"Bhuvan\", 20)\n",
        "print(\"Total no. of persons: \" + str(Person.count()))\n"
      ],
      "metadata": {
        "colab": {
          "base_uri": "https://localhost:8080/"
        },
        "id": "BFdFieLUsvP-",
        "outputId": "fb0554f5-bcf7-452a-c838-359a096f7200"
      },
      "execution_count": 24,
      "outputs": [
        {
          "output_type": "stream",
          "name": "stdout",
          "text": [
            "Total no. of persons: 3\n"
          ]
        }
      ]
    },
    {
      "cell_type": "markdown",
      "source": [
        "Q9. Write a class Fraction with attributes numerator and denominator. Override the str method to display the fraction as \"numerator/denominator\"."
      ],
      "metadata": {
        "id": "MtyW5EDbuAc4"
      }
    },
    {
      "cell_type": "code",
      "source": [
        "class Fraction:\n",
        "    def __init__(self, num, den):\n",
        "        self.num = num\n",
        "        self.den = den\n",
        "\n",
        "    def __str__(self):\n",
        "        return f\"{self.num}/{self.den}\"\n",
        "\n",
        "fraction = Fraction(12, 7)\n",
        "print(fraction)\n"
      ],
      "metadata": {
        "colab": {
          "base_uri": "https://localhost:8080/"
        },
        "id": "cIHA3RJjug4b",
        "outputId": "f180427e-8788-47ac-b7f3-9d52a059e365"
      },
      "execution_count": 25,
      "outputs": [
        {
          "output_type": "stream",
          "name": "stdout",
          "text": [
            "12/7\n"
          ]
        }
      ]
    },
    {
      "cell_type": "markdown",
      "source": [
        "Q10. Demonstrate operator overloading by creating a class Vector and overriding the add method to add two\n",
        "vectors"
      ],
      "metadata": {
        "id": "ocfQk5KezS_4"
      }
    },
    {
      "cell_type": "code",
      "source": [
        "class Vector:\n",
        "    def __init__(self, a, b):\n",
        "        self.a = a\n",
        "        self.b = b\n",
        "    def __add__(self, other):\n",
        "        return Vector(self.a + other.a, self.b + other.b)\n",
        "    def __str__(self):\n",
        "        return \"(\" + str(self.a) + \", \" + str(self.b) + \")\"\n",
        "v1 = Vector(1, 2)\n",
        "v2 = Vector(3, 4)\n",
        "result = v1 + v2\n",
        "print(\"Result of vector addition: \" + str(result))\n"
      ],
      "metadata": {
        "colab": {
          "base_uri": "https://localhost:8080/"
        },
        "id": "XT8HgkY2zZE_",
        "outputId": "bbf8f36c-5dc5-4b70-c53c-565a64dbf6d4"
      },
      "execution_count": 27,
      "outputs": [
        {
          "output_type": "stream",
          "name": "stdout",
          "text": [
            "Result of vector addition: (4, 6)\n"
          ]
        }
      ]
    },
    {
      "cell_type": "markdown",
      "source": [
        "Q11.Create a class Person with attributes name and age. Add a method greet() that prints \"Hello, my name is\n",
        "{name} and I am {age} years old.\""
      ],
      "metadata": {
        "id": "URyA0cWxz44D"
      }
    },
    {
      "cell_type": "code",
      "source": [
        "class Person:\n",
        "    def __init__(self, name, age):\n",
        "        self.name = name\n",
        "        self.age = age\n",
        "    def greet(self):\n",
        "        print(\"Hello, my name is \" + self.name + \" and I am \" + str(self.age) + \" years old.\")\n",
        "person = Person(\"Khushi\", 19)\n",
        "person.greet()\n"
      ],
      "metadata": {
        "colab": {
          "base_uri": "https://localhost:8080/"
        },
        "id": "dEnYaGsSz9S2",
        "outputId": "b13b30b2-135a-46f1-e4a4-01d1a7f5bf86"
      },
      "execution_count": 28,
      "outputs": [
        {
          "output_type": "stream",
          "name": "stdout",
          "text": [
            "Hello, my name is Khushi and I am 19 years old.\n"
          ]
        }
      ]
    },
    {
      "cell_type": "markdown",
      "source": [
        "Q12. Implement a class Student with attributes name and grades. Create a method average_grade() to compute\n",
        "the average of the grades."
      ],
      "metadata": {
        "id": "bD89iL2G0Qcz"
      }
    },
    {
      "cell_type": "code",
      "source": [
        "class Student:\n",
        "    def __init__(self, name, grades):\n",
        "        self.name = name\n",
        "        self.grades = grades\n",
        "    def average(self):\n",
        "        total = 0\n",
        "        count = 0\n",
        "        for grade in self.grades:\n",
        "            total += grade\n",
        "            count += 1\n",
        "        if count > 0 :\n",
        "          return total / count\n",
        "        else:\n",
        "          return 0\n",
        "student = Student(\"Khushi\", [95, 80, 90])\n",
        "print(\"Average grade:\", student.average())\n"
      ],
      "metadata": {
        "colab": {
          "base_uri": "https://localhost:8080/"
        },
        "id": "1KCi2EA70Tzp",
        "outputId": "0e569f2e-b150-44d8-eded-9619059ec7e3"
      },
      "execution_count": 36,
      "outputs": [
        {
          "output_type": "stream",
          "name": "stdout",
          "text": [
            "Average grade: 88.33333333333333\n"
          ]
        }
      ]
    },
    {
      "cell_type": "markdown",
      "source": [
        "Q13.Create a class Rectangle with methods set_dimensions() to set the dimensions and area() to calculate the\n",
        "area."
      ],
      "metadata": {
        "id": "kFGkSL3L2dCg"
      }
    },
    {
      "cell_type": "code",
      "source": [
        "class Rectangle:\n",
        "    def __init__(self):\n",
        "        self.length = 0\n",
        "        self.width = 0\n",
        "    def set_dimensions(self, length, width):\n",
        "        self.length = length\n",
        "        self.width = width\n",
        "    def area(self):\n",
        "        return self.length * self.width\n",
        "rectangle = Rectangle()\n",
        "rectangle.set_dimensions(3, 8)\n",
        "print(\"Area of rectangle:\", rectangle.area())\n"
      ],
      "metadata": {
        "colab": {
          "base_uri": "https://localhost:8080/"
        },
        "id": "NWQS5dRH2he0",
        "outputId": "5ea8d2a8-6b9e-4080-c951-9ab84807785f"
      },
      "execution_count": 37,
      "outputs": [
        {
          "output_type": "stream",
          "name": "stdout",
          "text": [
            "Area of rectangle: 24\n"
          ]
        }
      ]
    },
    {
      "cell_type": "markdown",
      "source": [
        "Q14.Create a class Employee with a method calculate_salary() that computes the salary based on hours worked\n",
        "and hourly rate. Create a derived class Manager that adds a bonus to the salary"
      ],
      "metadata": {
        "id": "vGpc5v_p2wPi"
      }
    },
    {
      "cell_type": "code",
      "source": [
        "class Employee:\n",
        "    def __init__(self, name, work, rate):\n",
        "        self.name = name\n",
        "        self.work = work\n",
        "        self.rate = rate\n",
        "    def calc(self):\n",
        "        return self.work * self.rate\n",
        "class Manager(Employee):\n",
        "    def __init__(self, name, work, rate, bonus):\n",
        "        super().__init__(name, work,rate)\n",
        "        self.bonus = bonus\n",
        "    def calc(self):\n",
        "        base = super().calc()\n",
        "        return base+ self.bonus\n",
        "employee = Employee(\"Khushi\", 500, 50)\n",
        "print(\"Employee  Salary:\", employee.calc())\n",
        "manager = Manager(\"Yash: \", 160, 30, 500)\n",
        "print(\"Manager's Salary:\", manager.calc())\n"
      ],
      "metadata": {
        "colab": {
          "base_uri": "https://localhost:8080/"
        },
        "id": "Gd0cDLIJ2zn-",
        "outputId": "77d3e003-3af1-432c-eee2-341ac22ccc9b"
      },
      "execution_count": 40,
      "outputs": [
        {
          "output_type": "stream",
          "name": "stdout",
          "text": [
            "Employee  Salary: 25000\n",
            "Manager's Salary: 5300\n"
          ]
        }
      ]
    },
    {
      "cell_type": "markdown",
      "source": [
        "Q15. Create a class Product with attributes name, price, and quantity. Implement a method total_price() that\n",
        "calculates the total price of the product."
      ],
      "metadata": {
        "id": "EAR-smCi3tzs"
      }
    },
    {
      "cell_type": "code",
      "source": [
        "class Product:\n",
        "    def __init__(self, name, price, quantity):\n",
        "        self.name = name\n",
        "        self.price = price\n",
        "        self.quantity = quantity\n",
        "    def total(self):\n",
        "        return self.price * self.quantity\n",
        "product = Product(\"Cup\", 250, 10)\n",
        "print(\"Total price:\", product.total())\n"
      ],
      "metadata": {
        "colab": {
          "base_uri": "https://localhost:8080/"
        },
        "id": "JdgLNOO63y1i",
        "outputId": "e660f0c2-3297-49b0-a2a3-cf55a8fc4f7f"
      },
      "execution_count": 41,
      "outputs": [
        {
          "output_type": "stream",
          "name": "stdout",
          "text": [
            "Total price: 2500\n"
          ]
        }
      ]
    },
    {
      "cell_type": "markdown",
      "source": [
        "Q16. Create a class Animal with an abstract method sound(). Create two derived classes Cow and Sheep that\n",
        "implement the sound() method."
      ],
      "metadata": {
        "id": "MiUJHUy14CtG"
      }
    },
    {
      "cell_type": "code",
      "source": [
        "import abc\n",
        "class Animal():\n",
        "    @abc.abstractmethod\n",
        "    def sound(self):\n",
        "        pass\n",
        "class Cow(Animal):\n",
        "    def sound(self):\n",
        "        return \"Moo\"\n",
        "class Sheep(Animal):\n",
        "    def sound(self):\n",
        "        return \"Baa\"\n",
        "cow = Cow()\n",
        "sheep = Sheep()\n",
        "print(\"Cow sound:\", cow.sound())\n",
        "print(\"Sheep sound:\", sheep.sound())\n"
      ],
      "metadata": {
        "colab": {
          "base_uri": "https://localhost:8080/"
        },
        "id": "uyWHIbuN4GD7",
        "outputId": "6c6519c2-701b-40d5-d51c-387b9d436c77"
      },
      "execution_count": 44,
      "outputs": [
        {
          "output_type": "stream",
          "name": "stdout",
          "text": [
            "Cow sound: Moo\n",
            "Sheep sound: Baa\n"
          ]
        }
      ]
    },
    {
      "cell_type": "markdown",
      "source": [
        "Q17. Create a class Book with attributes title, author, and year_published. Add a method get_book_info() that\n",
        "returns a formatted string with the book's details."
      ],
      "metadata": {
        "id": "t3g9V_8L4X9N"
      }
    },
    {
      "cell_type": "code",
      "source": [
        "class Book:\n",
        "    def __init__(self, title, author, year_published):\n",
        "        self.title = title\n",
        "        self.author = author\n",
        "        self.year_published= year_published\n",
        "    def get_book_info(self):\n",
        "        return \"Title: \" + self.title + \"\\nAuthor: \" + self.author + \"\\nYear Published: \" + str(self.year_published)\n",
        "book = Book(\"Abc\", \"Khushi\", 2005)\n",
        "print(book.get_book_info())\n"
      ],
      "metadata": {
        "colab": {
          "base_uri": "https://localhost:8080/"
        },
        "id": "lCIe2K6F4vpP",
        "outputId": "c1f6f81e-5eae-4595-ce4b-cce53c66d9c4"
      },
      "execution_count": 46,
      "outputs": [
        {
          "output_type": "stream",
          "name": "stdout",
          "text": [
            "Title: Abc\n",
            "Author: Khushi\n",
            "Year : 2005\n"
          ]
        }
      ]
    },
    {
      "cell_type": "markdown",
      "source": [
        "Q18. Create a class House with attributes address and price. Create a derived class Mansion that adds an\n",
        "attribute number_of_rooms"
      ],
      "metadata": {
        "id": "5KMZYYkz5Glp"
      }
    },
    {
      "cell_type": "code",
      "source": [
        "class House:\n",
        "    def __init__(self, address, price):\n",
        "        self.address = address\n",
        "        self.price = price\n",
        "    def get_info(self):\n",
        "        return \"Address: \" + self.address + \"\\nPrice: \" + str(self.price)\n",
        "class Mansion(House):\n",
        "    def __init__(self, address, price, number_of_rooms):\n",
        "        super().__init__(address, price)  # Inherit from House\n",
        "        self.number_of_rooms = number_of_rooms\n",
        "    def get_info(self):\n",
        "        base_info = super().get_info()  # Get base info from House class\n",
        "        return base_info + \"\\nNumber of Rooms: \" + str(self.number_of_rooms)\n",
        "house = House(\"Abc\", 12345600)\n",
        "print(\"House Info:\\n\", house.get_info())\n",
        "mansion = Mansion(\"Xyz\", 10000000000, 20)\n",
        "print(\"\\nMansion Info:\\n\", mansion.get_info())\n"
      ],
      "metadata": {
        "colab": {
          "base_uri": "https://localhost:8080/"
        },
        "id": "FHVPNdKc5LNM",
        "outputId": "871160fb-922c-464d-ec86-1d31182cbbec"
      },
      "execution_count": 47,
      "outputs": [
        {
          "output_type": "stream",
          "name": "stdout",
          "text": [
            "House Info:\n",
            " Address: Abc\n",
            "Price: 12345600\n",
            "\n",
            "Mansion Info:\n",
            " Address: Xyz\n",
            "Price: 10000000000\n",
            "Number of Rooms: 20\n"
          ]
        }
      ]
    }
  ]
}